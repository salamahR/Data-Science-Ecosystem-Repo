{
  "metadata": {
    "kernelspec": {
      "name": "python",
      "display_name": "Python (Pyodide)",
      "language": "python"
    },
    "language_info": {
      "codemirror_mode": {
        "name": "python",
        "version": 3
      },
      "file_extension": ".py",
      "mimetype": "text/x-python",
      "name": "python",
      "nbconvert_exporter": "python",
      "pygments_lexer": "ipython3",
      "version": "3.8"
    }
  },
  "nbformat_minor": 5,
  "nbformat": 4,
  "cells": [
    {
      "id": "fe4d245d-cba1-469b-a931-0cb3469b8885",
      "cell_type": "markdown",
      "source": "# Data Science Tools and Ecosystem",
      "metadata": {}
    },
    {
      "id": "b6734c4e-cc60-4bfd-8211-d374a7edb911",
      "cell_type": "markdown",
      "source": "In this notebook, Data Science Tools and Ecosystem are summarized.",
      "metadata": {}
    },
    {
      "id": "0191ad23-c12c-4592-b02b-6807cb087eef",
      "cell_type": "markdown",
      "source": "**Objectives:**\n- List popular languages for Data Science\n- List libraries for Data Science\n- List Data Science Tools",
      "metadata": {}
    },
    {
      "id": "8585b8f0-a031-4072-b3ad-7e4295c2539f",
      "cell_type": "markdown",
      "source": "Some of the popular languages that Data Scientists use are:\n1. Python\n2. R\n3. SQL",
      "metadata": {}
    },
    {
      "id": "f3edaa7f-5ea4-40df-8115-9f3e1404faa1",
      "cell_type": "markdown",
      "source": "Some of the commonly used libraries used by Data Scientists include:\n1. ggplot\n2. Numpy\n3. Pandas",
      "metadata": {}
    },
    {
      "id": "f9c8ed8b-ff4d-44b0-a833-d422ce9e2a32",
      "cell_type": "markdown",
      "source": "|Data Science Tools|\n|--------------------|\n|Jupyter Notebook|\n|RStudio|\n|Github|",
      "metadata": {}
    },
    {
      "id": "609e9762-004e-4818-a86d-d90d7dbbe226",
      "cell_type": "markdown",
      "source": "### Below are a few examples of evaluating arithmetic expressions in Python",
      "metadata": {}
    },
    {
      "id": "4cd38c98-bcfd-4259-bbb9-695f74daac75",
      "cell_type": "code",
      "source": "#This a simple arithmetic expression to mutiply then add integers\n(3*4)+5",
      "metadata": {
        "trusted": true
      },
      "outputs": [
        {
          "execution_count": 12,
          "output_type": "execute_result",
          "data": {
            "text/plain": "17"
          },
          "metadata": {}
        }
      ],
      "execution_count": 12
    },
    {
      "id": "14b3aadf-322a-4cf8-81da-515babf7ec88",
      "cell_type": "code",
      "source": "#This will convert 200 minutes to hours by diving by 60\n200/60",
      "metadata": {
        "trusted": true
      },
      "outputs": [
        {
          "execution_count": 14,
          "output_type": "execute_result",
          "data": {
            "text/plain": "3.3333333333333335"
          },
          "metadata": {}
        }
      ],
      "execution_count": 14
    },
    {
      "id": "43ab55cd-b40d-4a3c-a498-a3cd4c791691",
      "cell_type": "markdown",
      "source": "## Author\nSalamah",
      "metadata": {}
    },
    {
      "id": "ee9ff039-801b-419c-9073-93fc107a7189",
      "cell_type": "code",
      "source": "",
      "metadata": {
        "trusted": true
      },
      "outputs": [],
      "execution_count": null
    }
  ]
}